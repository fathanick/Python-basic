{
  "nbformat": 4,
  "nbformat_minor": 0,
  "metadata": {
    "colab": {
      "name": "05-Heatmap with Seaborn.ipynb",
      "provenance": [],
      "authorship_tag": "ABX9TyMNcNTcb8FGwBAHyEgMx6OF",
      "include_colab_link": true
    },
    "kernelspec": {
      "name": "python3",
      "display_name": "Python 3"
    }
  },
  "cells": [
    {
      "cell_type": "markdown",
      "metadata": {
        "id": "view-in-github",
        "colab_type": "text"
      },
      "source": [
        "<a href=\"https://colab.research.google.com/github/fathanick/Python-basic/blob/master/05_Heatmap_with_Seaborn.ipynb\" target=\"_parent\"><img src=\"https://colab.research.google.com/assets/colab-badge.svg\" alt=\"Open In Colab\"/></a>"
      ]
    },
    {
      "cell_type": "code",
      "metadata": {
        "id": "7C6M6fl1tKvX",
        "colab_type": "code",
        "colab": {}
      },
      "source": [
        "import pandas as pd"
      ],
      "execution_count": 2,
      "outputs": []
    },
    {
      "cell_type": "code",
      "metadata": {
        "id": "XnSkFXPws20M",
        "colab_type": "code",
        "colab": {
          "base_uri": "https://localhost:8080/",
          "height": 204
        },
        "outputId": "b6b4827d-d115-4513-8c40-903ef7bd5660"
      },
      "source": [
        "sales_df = pd.read_excel('/content/sample_data/SalesOrders.xlsx')\n",
        "sales_df.head()"
      ],
      "execution_count": 3,
      "outputs": [
        {
          "output_type": "execute_result",
          "data": {
            "text/html": [
              "<div>\n",
              "<style scoped>\n",
              "    .dataframe tbody tr th:only-of-type {\n",
              "        vertical-align: middle;\n",
              "    }\n",
              "\n",
              "    .dataframe tbody tr th {\n",
              "        vertical-align: top;\n",
              "    }\n",
              "\n",
              "    .dataframe thead th {\n",
              "        text-align: right;\n",
              "    }\n",
              "</style>\n",
              "<table border=\"1\" class=\"dataframe\">\n",
              "  <thead>\n",
              "    <tr style=\"text-align: right;\">\n",
              "      <th></th>\n",
              "      <th>OrderDate</th>\n",
              "      <th>Region</th>\n",
              "      <th>Rep</th>\n",
              "      <th>Item</th>\n",
              "      <th>Units</th>\n",
              "      <th>Unit Cost</th>\n",
              "      <th>Total</th>\n",
              "    </tr>\n",
              "  </thead>\n",
              "  <tbody>\n",
              "    <tr>\n",
              "      <th>0</th>\n",
              "      <td>2019-01-06</td>\n",
              "      <td>East</td>\n",
              "      <td>Jones</td>\n",
              "      <td>Pencil</td>\n",
              "      <td>95</td>\n",
              "      <td>1.99</td>\n",
              "      <td>189.05</td>\n",
              "    </tr>\n",
              "    <tr>\n",
              "      <th>1</th>\n",
              "      <td>2019-01-23</td>\n",
              "      <td>Central</td>\n",
              "      <td>Kivell</td>\n",
              "      <td>Binder</td>\n",
              "      <td>50</td>\n",
              "      <td>19.99</td>\n",
              "      <td>999.50</td>\n",
              "    </tr>\n",
              "    <tr>\n",
              "      <th>2</th>\n",
              "      <td>2019-02-09</td>\n",
              "      <td>Central</td>\n",
              "      <td>Jardine</td>\n",
              "      <td>Pencil</td>\n",
              "      <td>36</td>\n",
              "      <td>4.99</td>\n",
              "      <td>179.64</td>\n",
              "    </tr>\n",
              "    <tr>\n",
              "      <th>3</th>\n",
              "      <td>2019-02-26</td>\n",
              "      <td>Central</td>\n",
              "      <td>Gill</td>\n",
              "      <td>Pen</td>\n",
              "      <td>27</td>\n",
              "      <td>19.99</td>\n",
              "      <td>539.73</td>\n",
              "    </tr>\n",
              "    <tr>\n",
              "      <th>4</th>\n",
              "      <td>2019-03-15</td>\n",
              "      <td>West</td>\n",
              "      <td>Sorvino</td>\n",
              "      <td>Pencil</td>\n",
              "      <td>56</td>\n",
              "      <td>2.99</td>\n",
              "      <td>167.44</td>\n",
              "    </tr>\n",
              "  </tbody>\n",
              "</table>\n",
              "</div>"
            ],
            "text/plain": [
              "   OrderDate   Region      Rep    Item  Units  Unit Cost   Total\n",
              "0 2019-01-06     East    Jones  Pencil     95       1.99  189.05\n",
              "1 2019-01-23  Central   Kivell  Binder     50      19.99  999.50\n",
              "2 2019-02-09  Central  Jardine  Pencil     36       4.99  179.64\n",
              "3 2019-02-26  Central     Gill     Pen     27      19.99  539.73\n",
              "4 2019-03-15     West  Sorvino  Pencil     56       2.99  167.44"
            ]
          },
          "metadata": {
            "tags": []
          },
          "execution_count": 3
        }
      ]
    },
    {
      "cell_type": "code",
      "metadata": {
        "id": "gbkyXfvPtJmq",
        "colab_type": "code",
        "colab": {}
      },
      "source": [
        "import seaborn as sns\n",
        "import matplotlib.pyplot as plt\n",
        "%matplotlib inline "
      ],
      "execution_count": 6,
      "outputs": []
    },
    {
      "cell_type": "code",
      "metadata": {
        "id": "qY8MfTfUtorH",
        "colab_type": "code",
        "colab": {
          "base_uri": "https://localhost:8080/",
          "height": 341
        },
        "outputId": "6c437884-31d7-4a7c-bd50-989cb5928b27"
      },
      "source": [
        "#show correlated variables\n",
        "plt.figure(figsize=(10,5))\n",
        "sns.heatmap(sales_df.corr(), annot=True)"
      ],
      "execution_count": 11,
      "outputs": [
        {
          "output_type": "execute_result",
          "data": {
            "text/plain": [
              "<matplotlib.axes._subplots.AxesSubplot at 0x7f1285b2d048>"
            ]
          },
          "metadata": {
            "tags": []
          },
          "execution_count": 11
        },
        {
          "output_type": "display_data",
          "data": {
            "image/png": "[encoded data removed]",
            "text/plain": [
              "<Figure size 720x360 with 2 Axes>"
            ]
          },
          "metadata": {
            "tags": [],
            "needs_background": "light"
          }
        }
      ]
    },
    {
      "cell_type": "code",
      "metadata": {
        "id": "6dTecjdkuAY_",
        "colab_type": "code",
        "colab": {
          "base_uri": "https://localhost:8080/",
          "height": 341
        },
        "outputId": "95f81dad-b8d1-4f5b-d53f-cf8eca055d45"
      },
      "source": [
        "#change the heatmap colors\n",
        "\n",
        "plt.figure(figsize=(10,5))\n",
        "sns.heatmap(sales_df.corr(), cmap='coolwarm', annot=True, linewidths=.5)"
      ],
      "execution_count": 13,
      "outputs": [
        {
          "output_type": "execute_result",
          "data": {
            "text/plain": [
              "<matplotlib.axes._subplots.AxesSubplot at 0x7f127e76d208>"
            ]
          },
          "metadata": {
            "tags": []
          },
          "execution_count": 13
        },
        {
          "output_type": "display_data",
          "data": {
            "image/png": "[encoded data removed]",
            "text/plain": [
              "<Figure size 720x360 with 2 Axes>"
            ]
          },
          "metadata": {
            "tags": [],
            "needs_background": "light"
          }
        }
      ]
    },
    {
      "cell_type": "markdown",
      "metadata": {
        "id": "w752LXJmuXTr",
        "colab_type": "text"
      },
      "source": [
        "###Reference\n",
        "https://www.absentdata.com/python-graphs/create-a-heat-map-with-seaborn/"
      ]
    },
    {
      "cell_type": "code",
      "metadata": {
        "id": "S_rkiIaKuYtk",
        "colab_type": "code",
        "colab": {}
      },
      "source": [
        ""
      ],
      "execution_count": null,
      "outputs": []
    }
  ]
}