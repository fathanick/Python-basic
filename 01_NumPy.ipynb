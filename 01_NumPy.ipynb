{
  "nbformat": 4,
  "nbformat_minor": 0,
  "metadata": {
    "colab": {
      "name": "01-NumPy.ipynb",
      "provenance": [],
      "authorship_tag": "ABX9TyOXolVkYJ37w3lKcqkAuHio",
      "include_colab_link": true
    },
    "kernelspec": {
      "name": "python3",
      "display_name": "Python 3"
    }
  },
  "cells": [
    {
      "cell_type": "markdown",
      "metadata": {
        "id": "view-in-github",
        "colab_type": "text"
      },
      "source": [
        "<a href=\"https://colab.research.google.com/github/fathanick/Python-basic/blob/master/01_NumPy.ipynb\" target=\"_parent\"><img src=\"https://colab.research.google.com/assets/colab-badge.svg\" alt=\"Open In Colab\"/></a>"
      ]
    },
    {
      "cell_type": "markdown",
      "metadata": {
        "id": "Iq8iXlLsxz0F",
        "colab_type": "text"
      },
      "source": [
        "#Numpy\n",
        "\n",
        "Numpy stands for *numerical Python*, a Python library that focuses on scientific computing.\n",
        "\n",
        "###Why Numpy?\n",
        "\n",
        "\n",
        "*   It provides an efficient interface to store and operate on dense data buffers\n",
        "*   NumPy arrays are like Python’s built-in list type, but NumPy arrays provide much more efficient storage and data operations as the arrays grow larger in size."
      ]
    },
    {
      "cell_type": "markdown",
      "metadata": {
        "id": "0QDBLondx2rN",
        "colab_type": "text"
      },
      "source": [
        "###Arrays"
      ]
    },
    {
      "cell_type": "code",
      "metadata": {
        "id": "hE87LSoKxnUX",
        "colab_type": "code",
        "colab": {}
      },
      "source": [
        "import numpy as np"
      ],
      "execution_count": 0,
      "outputs": []
    },
    {
      "cell_type": "code",
      "metadata": {
        "id": "41kQmbqgx7Hi",
        "colab_type": "code",
        "colab": {
          "base_uri": "https://localhost:8080/",
          "height": 51
        },
        "outputId": "aecd4734-9cc8-4a11-a379-f74a5f5eaa32"
      },
      "source": [
        "a = np.array([1, 2, 3, 4, 5])   # Create a rank 1 array\n",
        "print(a)                        # Prints [1 2 3 4 5]\n",
        "print(type(a))                  # Prints \"<class 'numpy.ndarray'>\""
      ],
      "execution_count": 17,
      "outputs": [
        {
          "output_type": "stream",
          "text": [
            "[1 2 3 4 5]\n",
            "<class 'numpy.ndarray'>\n"
          ],
          "name": "stdout"
        }
      ]
    },
    {
      "cell_type": "code",
      "metadata": {
        "id": "WU-uGM9nygTd",
        "colab_type": "code",
        "colab": {
          "base_uri": "https://localhost:8080/",
          "height": 34
        },
        "outputId": "59602952-c87f-44f7-8846-b429aff476c6"
      },
      "source": [
        "print(a.shape)            # Prints \"(5,)\""
      ],
      "execution_count": 13,
      "outputs": [
        {
          "output_type": "stream",
          "text": [
            "(5,)\n"
          ],
          "name": "stdout"
        }
      ]
    },
    {
      "cell_type": "code",
      "metadata": {
        "id": "eLQmvlx3yj3Q",
        "colab_type": "code",
        "colab": {
          "base_uri": "https://localhost:8080/",
          "height": 34
        },
        "outputId": "78e046d2-344d-4ea8-ce82-99ecc5dd93d6"
      },
      "source": [
        "print(a[0], a[1], a[2])   # Prints \"1 2 3\""
      ],
      "execution_count": 7,
      "outputs": [
        {
          "output_type": "stream",
          "text": [
            "1 2 3\n"
          ],
          "name": "stdout"
        }
      ]
    },
    {
      "cell_type": "code",
      "metadata": {
        "id": "yPF_aH8wymyM",
        "colab_type": "code",
        "colab": {
          "base_uri": "https://localhost:8080/",
          "height": 34
        },
        "outputId": "0d7cb8ae-55c3-43a6-813a-a2b61c969c03"
      },
      "source": [
        "a[0] = 7                  # Change an element of the array. In this example, we change the first element (index=0) \n",
        "print(a)                  # Prints \"[7, 2, 3, 4, 5]\""
      ],
      "execution_count": 14,
      "outputs": [
        {
          "output_type": "stream",
          "text": [
            "[7 2 3 4 5]\n"
          ],
          "name": "stdout"
        }
      ]
    },
    {
      "cell_type": "code",
      "metadata": {
        "id": "hAnsDAwTyw4a",
        "colab_type": "code",
        "colab": {
          "base_uri": "https://localhost:8080/",
          "height": 68
        },
        "outputId": "e850cc00-35b2-4ffe-ad60-af32b55f40b1"
      },
      "source": [
        "b = np.array([[1,2,3],[4,5,6]])    # Create a rank 2 array\n",
        "print(b)                           # Prints \"[[1 2 3]\n",
        "                                   #          [4 5 6]]\"\n",
        "                              \n",
        "print(b.shape)                     # Prints \"(2, 3)\""
      ],
      "execution_count": 18,
      "outputs": [
        {
          "output_type": "stream",
          "text": [
            "[[1 2 3]\n",
            " [4 5 6]]\n",
            "(2, 3)\n"
          ],
          "name": "stdout"
        }
      ]
    },
    {
      "cell_type": "markdown",
      "metadata": {
        "id": "BuhvubxH78Xx",
        "colab_type": "text"
      },
      "source": [
        "* Remember that unlike Python lists, NumPy is constrained to arrays that all \n",
        "contain the **same type**. \n",
        "* If types do not match, NumPy will **upcast** if possible (here, integers are\n",
        "upcast to floating point):"
      ]
    },
    {
      "cell_type": "code",
      "metadata": {
        "id": "lxUqe9l077q4",
        "colab_type": "code",
        "colab": {
          "base_uri": "https://localhost:8080/",
          "height": 34
        },
        "outputId": "72b45880-b7e2-481a-8f91-c434f3b2b17c"
      },
      "source": [
        "np.array([3.14, 4, 2, 3])"
      ],
      "execution_count": 68,
      "outputs": [
        {
          "output_type": "execute_result",
          "data": {
            "text/plain": [
              "array([3.14, 4.  , 2.  , 3.  ])"
            ]
          },
          "metadata": {
            "tags": []
          },
          "execution_count": 68
        }
      ]
    },
    {
      "cell_type": "markdown",
      "metadata": {
        "id": "p8v_vlL40AK6",
        "colab_type": "text"
      },
      "source": [
        "###Functions to Create Arrays"
      ]
    },
    {
      "cell_type": "code",
      "metadata": {
        "id": "B56d-Ioi0FYx",
        "colab_type": "code",
        "colab": {
          "base_uri": "https://localhost:8080/",
          "height": 51
        },
        "outputId": "9e8e8923-0985-415a-f1d1-779711f0588b"
      },
      "source": [
        "a = np.zeros((2,2))   # Create an array of all zeros\n",
        "print(a)              # Prints \"[[ 0.  0.]\n",
        "                      #          [ 0.  0.]]\""
      ],
      "execution_count": 30,
      "outputs": [
        {
          "output_type": "stream",
          "text": [
            "[[0. 0.]\n",
            " [0. 0.]]\n"
          ],
          "name": "stdout"
        }
      ]
    },
    {
      "cell_type": "code",
      "metadata": {
        "id": "Gaqu2OKh0KIv",
        "colab_type": "code",
        "colab": {
          "base_uri": "https://localhost:8080/",
          "height": 34
        },
        "outputId": "7ef6e28f-15b8-4097-ed93-6c71e8798bb6"
      },
      "source": [
        "b = np.ones((1,2))    # Create an array of all ones\n",
        "print(b)              # Prints \"[[ 1.  1.]]\""
      ],
      "execution_count": 20,
      "outputs": [
        {
          "output_type": "stream",
          "text": [
            "[[1. 1.]]\n"
          ],
          "name": "stdout"
        }
      ]
    },
    {
      "cell_type": "code",
      "metadata": {
        "id": "e7ymFETX0Ogd",
        "colab_type": "code",
        "colab": {
          "base_uri": "https://localhost:8080/",
          "height": 51
        },
        "outputId": "49f05113-cf6c-4427-8687-b5a19dfe5c81"
      },
      "source": [
        "c = np.full((2,2), 7)  # Create a constant array\n",
        "print(c)               # Prints \"[[ 7.  7.]\n",
        "                       #          [ 7.  7.]]\""
      ],
      "execution_count": 23,
      "outputs": [
        {
          "output_type": "stream",
          "text": [
            "[[7 7]\n",
            " [7 7]]\n"
          ],
          "name": "stdout"
        }
      ]
    },
    {
      "cell_type": "code",
      "metadata": {
        "id": "yd8I35dZ0SwS",
        "colab_type": "code",
        "colab": {
          "base_uri": "https://localhost:8080/",
          "height": 51
        },
        "outputId": "d2c423df-08bb-427f-9114-917af1f35e3b"
      },
      "source": [
        "d = np.eye(2)         # Create a 2x2 identity matrix\n",
        "print(d)              # Prints \"[[ 1.  0.]\n",
        "                      #          [ 0.  1.]]\""
      ],
      "execution_count": 24,
      "outputs": [
        {
          "output_type": "stream",
          "text": [
            "[[1. 0.]\n",
            " [0. 1.]]\n"
          ],
          "name": "stdout"
        }
      ]
    },
    {
      "cell_type": "code",
      "metadata": {
        "id": "7U9D22gr0bvk",
        "colab_type": "code",
        "colab": {
          "base_uri": "https://localhost:8080/",
          "height": 51
        },
        "outputId": "5eaaded0-fd7f-498d-f21f-f48ff6a4463f"
      },
      "source": [
        "e = np.random.random((2,2))  # Create an array filled with random values\n",
        "print(e)                     "
      ],
      "execution_count": 27,
      "outputs": [
        {
          "output_type": "stream",
          "text": [
            "[[0.86569396 0.10120034]\n",
            " [0.5192007  0.0132109 ]]\n"
          ],
          "name": "stdout"
        }
      ]
    },
    {
      "cell_type": "code",
      "metadata": {
        "id": "f9OURDwu0jE4",
        "colab_type": "code",
        "colab": {
          "base_uri": "https://localhost:8080/",
          "height": 34
        },
        "outputId": "a5fde20e-9b3d-4cc4-c959-1253889d001b"
      },
      "source": [
        "# Create an array filled with a linear sequence\n",
        "# Starting at 0, ending at 20, stepping by 2\n",
        "# (this is similar to the built-in range() function)\n",
        "\n",
        "np.arange(0, 20, 2)"
      ],
      "execution_count": 28,
      "outputs": [
        {
          "output_type": "execute_result",
          "data": {
            "text/plain": [
              "array([ 0,  2,  4,  6,  8, 10, 12, 14, 16, 18])"
            ]
          },
          "metadata": {
            "tags": []
          },
          "execution_count": 28
        }
      ]
    },
    {
      "cell_type": "code",
      "metadata": {
        "id": "evUF_aOg1SOg",
        "colab_type": "code",
        "colab": {
          "base_uri": "https://localhost:8080/",
          "height": 34
        },
        "outputId": "600575ef-cd1c-4e1a-e6aa-18d7ecf563a2"
      },
      "source": [
        "# Create an array of five values evenly spaced between 0 and 1\n",
        "\n",
        "np.linspace(0, 1, 5)"
      ],
      "execution_count": 34,
      "outputs": [
        {
          "output_type": "execute_result",
          "data": {
            "text/plain": [
              "array([0.  , 0.25, 0.5 , 0.75, 1.  ])"
            ]
          },
          "metadata": {
            "tags": []
          },
          "execution_count": 34
        }
      ]
    },
    {
      "cell_type": "code",
      "metadata": {
        "id": "umspXEcf2CLT",
        "colab_type": "code",
        "colab": {
          "base_uri": "https://localhost:8080/",
          "height": 68
        },
        "outputId": "d073bf47-415b-463a-bf31-62b86a1d2768"
      },
      "source": [
        "# Create a 3x3 array of normally distributed random values\n",
        "# with mean 0 and standard deviation 1\n",
        "\n",
        "np.random.normal(0, 1, (3, 3))"
      ],
      "execution_count": 36,
      "outputs": [
        {
          "output_type": "execute_result",
          "data": {
            "text/plain": [
              "array([[-1.61088142,  2.01999756,  0.50916041],\n",
              "       [-1.48113585,  0.57111568,  0.68480427],\n",
              "       [ 0.74571361,  0.41754881, -0.11485848]])"
            ]
          },
          "metadata": {
            "tags": []
          },
          "execution_count": 36
        }
      ]
    },
    {
      "cell_type": "code",
      "metadata": {
        "id": "vTwoYdj22Hb8",
        "colab_type": "code",
        "colab": {
          "base_uri": "https://localhost:8080/",
          "height": 68
        },
        "outputId": "58722c37-bf33-4f52-fb1c-e72af31340f6"
      },
      "source": [
        "# Create a 3x3 array of random integers in the interval [0, 10)\n",
        "np.random.randint(0, 10, (3, 3))"
      ],
      "execution_count": 37,
      "outputs": [
        {
          "output_type": "execute_result",
          "data": {
            "text/plain": [
              "array([[4, 4, 3],\n",
              "       [9, 1, 5],\n",
              "       [5, 9, 0]])"
            ]
          },
          "metadata": {
            "tags": []
          },
          "execution_count": 37
        }
      ]
    },
    {
      "cell_type": "code",
      "metadata": {
        "id": "JYbqQYrZ2Rse",
        "colab_type": "code",
        "colab": {
          "base_uri": "https://localhost:8080/",
          "height": 34
        },
        "outputId": "b62b52a2-22d3-4934-c96c-b01c57fdf1d2"
      },
      "source": [
        "# Create an uninitialized array of three integers\n",
        "# The values will be whatever happens to already exist at that\n",
        "# memory location\n",
        "np.empty(3)"
      ],
      "execution_count": 38,
      "outputs": [
        {
          "output_type": "execute_result",
          "data": {
            "text/plain": [
              "array([2.5e-323, 9.9e-324, 1.5e-323])"
            ]
          },
          "metadata": {
            "tags": []
          },
          "execution_count": 38
        }
      ]
    },
    {
      "cell_type": "markdown",
      "metadata": {
        "id": "tFxB37Zx64GG",
        "colab_type": "text"
      },
      "source": [
        "###NumPy Array Attributes"
      ]
    },
    {
      "cell_type": "code",
      "metadata": {
        "id": "7T8WD2o87LLJ",
        "colab_type": "code",
        "colab": {}
      },
      "source": [
        "np.random.seed(0) # seed for reproducibility\n",
        "\n",
        "a1 = np.random.randint(10, size=6) # One-dimensional array\n",
        "a2 = np.random.randint(10, size=(3, 4)) # Two-dimensional array\n",
        "a3 = np.random.randint(10, size=(3, 4, 5)) # Three-dimensional array"
      ],
      "execution_count": 0,
      "outputs": []
    },
    {
      "cell_type": "markdown",
      "metadata": {
        "id": "Dtw9qIxU7YhB",
        "colab_type": "text"
      },
      "source": [
        "Each array has attributes **ndim** (the number of dimensions), **shape** (the size of each dimension), and **size** (the total size of the array):"
      ]
    },
    {
      "cell_type": "code",
      "metadata": {
        "id": "33rZi-Zg7dkP",
        "colab_type": "code",
        "colab": {
          "base_uri": "https://localhost:8080/",
          "height": 68
        },
        "outputId": "fe93fbac-e6ea-44a0-b652-4549f9ac00f4"
      },
      "source": [
        "print(\"a3 ndim: \", a3.ndim)\n",
        "print(\"a3 shape:\", a3.shape)\n",
        "print(\"a3 size: \", a3.size)"
      ],
      "execution_count": 67,
      "outputs": [
        {
          "output_type": "stream",
          "text": [
            "a3 ndim:  3\n",
            "a3 shape: (3, 4, 5)\n",
            "a3 size:  60\n"
          ],
          "name": "stdout"
        }
      ]
    },
    {
      "cell_type": "markdown",
      "metadata": {
        "id": "cJKagy0i6HuP",
        "colab_type": "text"
      },
      "source": [
        "### NumPy Standard Data Types\n",
        "\n",
        "Every numpy array is a grid of elements of the same type. Numpy provides a large set of numeric datatypes that we can use to construct arrays. Numpy tries to guess a datatype when we create an array, but functions that construct arrays usually also include an optional argument to explicitly specify the datatype.\n",
        "\n",
        "Below are the standard NumPy data types\n",
        "\n",
        "![alt text](https://miro.medium.com/max/1378/0*kuKgrAsZQ8D_hzjD.png)\n"
      ]
    },
    {
      "cell_type": "code",
      "metadata": {
        "id": "zR8Qt2Ab6JtN",
        "colab_type": "code",
        "colab": {
          "base_uri": "https://localhost:8080/",
          "height": 34
        },
        "outputId": "9c64293d-5bcf-488e-e707-e632b89a43a9"
      },
      "source": [
        "# Check data type or array\n",
        "\n",
        "a3.dtype"
      ],
      "execution_count": 69,
      "outputs": [
        {
          "output_type": "execute_result",
          "data": {
            "text/plain": [
              "dtype('int64')"
            ]
          },
          "metadata": {
            "tags": []
          },
          "execution_count": 69
        }
      ]
    },
    {
      "cell_type": "markdown",
      "metadata": {
        "id": "NxyayOHq8m5R",
        "colab_type": "text"
      },
      "source": [
        "In creating an array, we can specify a data type by adding the **dtype parameter**."
      ]
    },
    {
      "cell_type": "code",
      "metadata": {
        "id": "mbtvdnF_8lZ_",
        "colab_type": "code",
        "colab": {
          "base_uri": "https://localhost:8080/",
          "height": 34
        },
        "outputId": "225b8cef-bf02-4f9c-ae80-e2c6f7ca53e6"
      },
      "source": [
        "arr = np.array([1, 4, 2, 5, 3], dtype='int32')\n",
        "arr.dtype"
      ],
      "execution_count": 70,
      "outputs": [
        {
          "output_type": "execute_result",
          "data": {
            "text/plain": [
              "dtype('int32')"
            ]
          },
          "metadata": {
            "tags": []
          },
          "execution_count": 70
        }
      ]
    },
    {
      "cell_type": "markdown",
      "metadata": {
        "id": "J73Yzdzs2ndD",
        "colab_type": "text"
      },
      "source": [
        "###Array indexing: Accessing Single Elements"
      ]
    },
    {
      "cell_type": "code",
      "metadata": {
        "id": "9VBYevwK2o0D",
        "colab_type": "code",
        "colab": {
          "base_uri": "https://localhost:8080/",
          "height": 34
        },
        "outputId": "26f05c98-cf41-4c11-e58b-e8c2e1edc543"
      },
      "source": [
        "arr = np.array([1, 2, 3, 4, 5])\n",
        "arr"
      ],
      "execution_count": 44,
      "outputs": [
        {
          "output_type": "execute_result",
          "data": {
            "text/plain": [
              "array([1, 2, 3, 4, 5])"
            ]
          },
          "metadata": {
            "tags": []
          },
          "execution_count": 44
        }
      ]
    },
    {
      "cell_type": "code",
      "metadata": {
        "id": "OPohY-eg3KhU",
        "colab_type": "code",
        "colab": {
          "base_uri": "https://localhost:8080/",
          "height": 51
        },
        "outputId": "b5aa0e7c-cce4-4b73-cf17-96257fb14c99"
      },
      "source": [
        "# In a one-dimensional array, we can access the ith value (counting from zero) by specifying the desired index in square brackets, just as with Python lists:\n",
        "\n",
        "print(arr[3])\n",
        "print(arr[0])"
      ],
      "execution_count": 45,
      "outputs": [
        {
          "output_type": "stream",
          "text": [
            "4\n",
            "1\n"
          ],
          "name": "stdout"
        }
      ]
    },
    {
      "cell_type": "code",
      "metadata": {
        "id": "9p7JyxIG3QOR",
        "colab_type": "code",
        "colab": {
          "base_uri": "https://localhost:8080/",
          "height": 51
        },
        "outputId": "ffc85d83-3ed3-4e91-f4b6-7520d1ed0e1a"
      },
      "source": [
        "# Use negative indices, to index from the end of the array\n",
        "\n",
        "print(arr[-3])\n",
        "print(arr[-2])"
      ],
      "execution_count": 46,
      "outputs": [
        {
          "output_type": "stream",
          "text": [
            "3\n",
            "4\n"
          ],
          "name": "stdout"
        }
      ]
    },
    {
      "cell_type": "code",
      "metadata": {
        "id": "CqJkDpzl35z1",
        "colab_type": "code",
        "colab": {
          "base_uri": "https://localhost:8080/",
          "height": 119
        },
        "outputId": "28e0817a-0fd7-4f96-ed92-51c7393b6927"
      },
      "source": [
        "# In a multidimensional array, we access items using a comma-separated tuple of indices\n",
        "\n",
        "arr2 = np.array([[1, 2, 3, 4],\n",
        "                 [7, 6, 8, 5],\n",
        "                 [12, 11, 10, 9]])\n",
        "print(arr2)\n",
        "print(arr2[0,0]) # Print item in the first row and first column\n",
        "print(arr2[1,2]) # Print item in the second row and third column\n",
        "print(arr2[2,-3]) # Print item in the third row and third column from the end"
      ],
      "execution_count": 62,
      "outputs": [
        {
          "output_type": "stream",
          "text": [
            "[[ 1  2  3  4]\n",
            " [ 7  6  8  5]\n",
            " [12 11 10  9]]\n",
            "1\n",
            "8\n",
            "11\n"
          ],
          "name": "stdout"
        }
      ]
    },
    {
      "cell_type": "code",
      "metadata": {
        "id": "gynOPnH25j2A",
        "colab_type": "code",
        "colab": {
          "base_uri": "https://localhost:8080/",
          "height": 68
        },
        "outputId": "8f3c06fd-4080-4182-ec42-801ccd54eb4d"
      },
      "source": [
        "# We can also modify values using any of the above index notation\n",
        "\n",
        "arr2[0,1] = 19\n",
        "print(arr2)"
      ],
      "execution_count": 64,
      "outputs": [
        {
          "output_type": "stream",
          "text": [
            "[[ 1 19  3  4]\n",
            " [ 7  6 19  5]\n",
            " [12 11 10  9]]\n"
          ],
          "name": "stdout"
        }
      ]
    },
    {
      "cell_type": "markdown",
      "metadata": {
        "id": "PZRplZxF8wzb",
        "colab_type": "text"
      },
      "source": [
        "###Array Slicing: Accessing Subarrays\n",
        "\n",
        "The NumPy slicing syntax follows that of the standard Python list; to access a slice of\n",
        "an array x, use this:\n",
        "\n",
        "\n",
        "---\n",
        "\n",
        "\n",
        "***x[start:stop:step]***\n",
        "\n",
        "\n",
        "---\n",
        "\n",
        "\n",
        "If any of these are unspecified, they default to the values *start=0*, *stop=size of\n",
        "dimension*, *step=1*. "
      ]
    },
    {
      "cell_type": "markdown",
      "metadata": {
        "id": "Oq4G7XwS9MlW",
        "colab_type": "text"
      },
      "source": [
        "####One-dimensional subarrays"
      ]
    },
    {
      "cell_type": "code",
      "metadata": {
        "id": "bsfPlTCm8wYV",
        "colab_type": "code",
        "colab": {
          "base_uri": "https://localhost:8080/",
          "height": 34
        },
        "outputId": "f952dd4e-d845-4a24-8a0e-288d2ea9fc9a"
      },
      "source": [
        "x = np.arange(10)\n",
        "x"
      ],
      "execution_count": 71,
      "outputs": [
        {
          "output_type": "execute_result",
          "data": {
            "text/plain": [
              "array([0, 1, 2, 3, 4, 5, 6, 7, 8, 9])"
            ]
          },
          "metadata": {
            "tags": []
          },
          "execution_count": 71
        }
      ]
    },
    {
      "cell_type": "code",
      "metadata": {
        "id": "9xn_0UQz9Ray",
        "colab_type": "code",
        "colab": {
          "base_uri": "https://localhost:8080/",
          "height": 34
        },
        "outputId": "0f6590d9-d47b-4f9b-ea3c-df0a2f2f4afe"
      },
      "source": [
        "x[:5] # first five elements"
      ],
      "execution_count": 72,
      "outputs": [
        {
          "output_type": "execute_result",
          "data": {
            "text/plain": [
              "array([0, 1, 2, 3, 4])"
            ]
          },
          "metadata": {
            "tags": []
          },
          "execution_count": 72
        }
      ]
    },
    {
      "cell_type": "code",
      "metadata": {
        "id": "T-CwZ9D_9SdY",
        "colab_type": "code",
        "colab": {
          "base_uri": "https://localhost:8080/",
          "height": 34
        },
        "outputId": "62bc53f4-ba95-46db-f59a-45c8adb93fce"
      },
      "source": [
        "x[5:] # elements after index 5"
      ],
      "execution_count": 73,
      "outputs": [
        {
          "output_type": "execute_result",
          "data": {
            "text/plain": [
              "array([5, 6, 7, 8, 9])"
            ]
          },
          "metadata": {
            "tags": []
          },
          "execution_count": 73
        }
      ]
    },
    {
      "cell_type": "code",
      "metadata": {
        "id": "t4lV2Zfk9WU8",
        "colab_type": "code",
        "colab": {
          "base_uri": "https://localhost:8080/",
          "height": 34
        },
        "outputId": "fd1c14fe-0a87-4e15-d584-678463f1357f"
      },
      "source": [
        "x[4:7] # middle subarray"
      ],
      "execution_count": 74,
      "outputs": [
        {
          "output_type": "execute_result",
          "data": {
            "text/plain": [
              "array([4, 5, 6])"
            ]
          },
          "metadata": {
            "tags": []
          },
          "execution_count": 74
        }
      ]
    },
    {
      "cell_type": "code",
      "metadata": {
        "id": "9DEScOMj9bqN",
        "colab_type": "code",
        "colab": {
          "base_uri": "https://localhost:8080/",
          "height": 34
        },
        "outputId": "3fd6f190-de26-4d24-8a4f-743413b9eb2e"
      },
      "source": [
        "x[::2] # every other element"
      ],
      "execution_count": 75,
      "outputs": [
        {
          "output_type": "execute_result",
          "data": {
            "text/plain": [
              "array([0, 2, 4, 6, 8])"
            ]
          },
          "metadata": {
            "tags": []
          },
          "execution_count": 75
        }
      ]
    },
    {
      "cell_type": "code",
      "metadata": {
        "id": "eoY250x09duG",
        "colab_type": "code",
        "colab": {
          "base_uri": "https://localhost:8080/",
          "height": 34
        },
        "outputId": "b27768e2-966f-496c-bffc-1ff9b0e91a86"
      },
      "source": [
        "x[1::2] # every other element, starting at index 1"
      ],
      "execution_count": 76,
      "outputs": [
        {
          "output_type": "execute_result",
          "data": {
            "text/plain": [
              "array([1, 3, 5, 7, 9])"
            ]
          },
          "metadata": {
            "tags": []
          },
          "execution_count": 76
        }
      ]
    },
    {
      "cell_type": "code",
      "metadata": {
        "id": "A8DDfglW9ek-",
        "colab_type": "code",
        "colab": {
          "base_uri": "https://localhost:8080/",
          "height": 34
        },
        "outputId": "e07e3283-597c-493e-c94e-6f4d9d03bfd4"
      },
      "source": [
        "x[::-1] # all elements, reversed"
      ],
      "execution_count": 77,
      "outputs": [
        {
          "output_type": "execute_result",
          "data": {
            "text/plain": [
              "array([9, 8, 7, 6, 5, 4, 3, 2, 1, 0])"
            ]
          },
          "metadata": {
            "tags": []
          },
          "execution_count": 77
        }
      ]
    },
    {
      "cell_type": "code",
      "metadata": {
        "id": "AwIcL8669ibZ",
        "colab_type": "code",
        "colab": {
          "base_uri": "https://localhost:8080/",
          "height": 34
        },
        "outputId": "e17b4423-708b-468d-a681-c06f6d1cbf6a"
      },
      "source": [
        "x[5::-2] # reversed every other from index 5"
      ],
      "execution_count": 78,
      "outputs": [
        {
          "output_type": "execute_result",
          "data": {
            "text/plain": [
              "array([5, 3, 1])"
            ]
          },
          "metadata": {
            "tags": []
          },
          "execution_count": 78
        }
      ]
    },
    {
      "cell_type": "markdown",
      "metadata": {
        "id": "BDSxWrrA9o-T",
        "colab_type": "text"
      },
      "source": [
        "####Multidimensional subarrays"
      ]
    },
    {
      "cell_type": "code",
      "metadata": {
        "id": "fczR5D4D9vMq",
        "colab_type": "code",
        "colab": {
          "base_uri": "https://localhost:8080/",
          "height": 68
        },
        "outputId": "6e991832-b9c4-4fa4-8fe5-04bb9f7b8c30"
      },
      "source": [
        "a2"
      ],
      "execution_count": 79,
      "outputs": [
        {
          "output_type": "execute_result",
          "data": {
            "text/plain": [
              "array([[3, 5, 2, 4],\n",
              "       [7, 6, 8, 8],\n",
              "       [1, 6, 7, 7]])"
            ]
          },
          "metadata": {
            "tags": []
          },
          "execution_count": 79
        }
      ]
    },
    {
      "cell_type": "code",
      "metadata": {
        "id": "RHb9V_QB9yU2",
        "colab_type": "code",
        "colab": {
          "base_uri": "https://localhost:8080/",
          "height": 51
        },
        "outputId": "3cbc3e3f-ff50-4526-ed35-f59f615afd46"
      },
      "source": [
        "a2[:2, :3] # two rows, three columns"
      ],
      "execution_count": 80,
      "outputs": [
        {
          "output_type": "execute_result",
          "data": {
            "text/plain": [
              "array([[3, 5, 2],\n",
              "       [7, 6, 8]])"
            ]
          },
          "metadata": {
            "tags": []
          },
          "execution_count": 80
        }
      ]
    },
    {
      "cell_type": "code",
      "metadata": {
        "id": "sTh5s40291Lf",
        "colab_type": "code",
        "colab": {
          "base_uri": "https://localhost:8080/",
          "height": 68
        },
        "outputId": "d905bb44-57a3-4dc6-e384-33cfe2cf1b36"
      },
      "source": [
        "a2[:3, ::2] # all rows, every other column"
      ],
      "execution_count": 81,
      "outputs": [
        {
          "output_type": "execute_result",
          "data": {
            "text/plain": [
              "array([[3, 2],\n",
              "       [7, 8],\n",
              "       [1, 7]])"
            ]
          },
          "metadata": {
            "tags": []
          },
          "execution_count": 81
        }
      ]
    },
    {
      "cell_type": "code",
      "metadata": {
        "id": "QmanXTBE978A",
        "colab_type": "code",
        "colab": {
          "base_uri": "https://localhost:8080/",
          "height": 68
        },
        "outputId": "7d754bd7-34f1-4704-f2f0-043837164b38"
      },
      "source": [
        "# Subarray dimensions can even be reversed together\n",
        "\n",
        "a2[::-1, ::-1]"
      ],
      "execution_count": 82,
      "outputs": [
        {
          "output_type": "execute_result",
          "data": {
            "text/plain": [
              "array([[7, 7, 6, 1],\n",
              "       [8, 8, 6, 7],\n",
              "       [4, 2, 5, 3]])"
            ]
          },
          "metadata": {
            "tags": []
          },
          "execution_count": 82
        }
      ]
    },
    {
      "cell_type": "markdown",
      "metadata": {
        "id": "x9kSr15R-DHL",
        "colab_type": "text"
      },
      "source": [
        "####Accessing Array Rows and Columns"
      ]
    },
    {
      "cell_type": "code",
      "metadata": {
        "id": "vCG8BIVl-GGN",
        "colab_type": "code",
        "colab": {
          "base_uri": "https://localhost:8080/",
          "height": 34
        },
        "outputId": "21223bb4-508f-4f34-9fcb-7ba8b93ff313"
      },
      "source": [
        "print(a2[:, 0]) # first column of x2"
      ],
      "execution_count": 83,
      "outputs": [
        {
          "output_type": "stream",
          "text": [
            "[3 7 1]\n"
          ],
          "name": "stdout"
        }
      ]
    },
    {
      "cell_type": "code",
      "metadata": {
        "id": "pPaDY24R-O6B",
        "colab_type": "code",
        "colab": {
          "base_uri": "https://localhost:8080/",
          "height": 34
        },
        "outputId": "b6c5e4ab-b834-4b43-f5e2-d4eac3768161"
      },
      "source": [
        "print(a2[0]) # equivalent to a2[0, :]"
      ],
      "execution_count": 84,
      "outputs": [
        {
          "output_type": "stream",
          "text": [
            "[3 5 2 4]\n"
          ],
          "name": "stdout"
        }
      ]
    },
    {
      "cell_type": "markdown",
      "metadata": {
        "id": "rYdtDPGS-m8T",
        "colab_type": "text"
      },
      "source": [
        "###Reshaping of Arrays"
      ]
    },
    {
      "cell_type": "code",
      "metadata": {
        "id": "YFqQuAIN-5Nu",
        "colab_type": "code",
        "colab": {
          "base_uri": "https://localhost:8080/",
          "height": 102
        },
        "outputId": "e248e97c-8124-446f-f7a2-63b12b3d7bd8"
      },
      "source": [
        "# The most flexible way of doing this is with the reshape() method\n",
        "\n",
        "grid = np.arange(1,10)\n",
        "print(\"Before: \",grid)\n",
        "new_grid = grid.reshape(3,3) # Reshape grid to 3x3\n",
        "print(\"After: \")\n",
        "print(new_grid)"
      ],
      "execution_count": 90,
      "outputs": [
        {
          "output_type": "stream",
          "text": [
            "Before:  [1 2 3 4 5 6 7 8 9]\n",
            "After: \n",
            "[[1 2 3]\n",
            " [4 5 6]\n",
            " [7 8 9]]\n"
          ],
          "name": "stdout"
        }
      ]
    },
    {
      "cell_type": "code",
      "metadata": {
        "id": "LDn2AQOwAH-K",
        "colab_type": "code",
        "colab": {
          "base_uri": "https://localhost:8080/",
          "height": 51
        },
        "outputId": "5d792dd9-e681-464b-823a-ef0589421166"
      },
      "source": [
        "# row vector via reshape\n",
        "x = np.array([1, 2, 3])\n",
        "print(x)\n",
        "print(x.reshape((1, 3)))"
      ],
      "execution_count": 93,
      "outputs": [
        {
          "output_type": "stream",
          "text": [
            "[1 2 3]\n",
            "[[1 2 3]]\n"
          ],
          "name": "stdout"
        }
      ]
    },
    {
      "cell_type": "code",
      "metadata": {
        "id": "DeHWmA5hAYsx",
        "colab_type": "code",
        "colab": {
          "base_uri": "https://localhost:8080/",
          "height": 34
        },
        "outputId": "3d02548a-5c9c-41a1-e9d2-5bf0ecb16293"
      },
      "source": [
        "# row vector via newaxis\n",
        "print(x[np.newaxis, :])"
      ],
      "execution_count": 97,
      "outputs": [
        {
          "output_type": "execute_result",
          "data": {
            "text/plain": [
              "array([[1, 2, 3]])"
            ]
          },
          "metadata": {
            "tags": []
          },
          "execution_count": 97
        }
      ]
    },
    {
      "cell_type": "code",
      "metadata": {
        "id": "jgn3XHRyAei6",
        "colab_type": "code",
        "colab": {
          "base_uri": "https://localhost:8080/",
          "height": 68
        },
        "outputId": "50b515b6-9c48-4aa6-ce96-e643363b70df"
      },
      "source": [
        "# column vector via reshape\n",
        "print(x.reshape((3, 1)))"
      ],
      "execution_count": 95,
      "outputs": [
        {
          "output_type": "stream",
          "text": [
            "[[1]\n",
            " [2]\n",
            " [3]]\n"
          ],
          "name": "stdout"
        }
      ]
    },
    {
      "cell_type": "code",
      "metadata": {
        "id": "gX15I0v6Akrz",
        "colab_type": "code",
        "colab": {
          "base_uri": "https://localhost:8080/",
          "height": 68
        },
        "outputId": "004f7b37-1b7d-407c-fb07-faf43dfdc35b"
      },
      "source": [
        "# column vector via newaxis\n",
        "print(x[:, np.newaxis])"
      ],
      "execution_count": 98,
      "outputs": [
        {
          "output_type": "stream",
          "text": [
            "[[1]\n",
            " [2]\n",
            " [3]]\n"
          ],
          "name": "stdout"
        }
      ]
    },
    {
      "cell_type": "markdown",
      "metadata": {
        "id": "XdT54XR6GXZk",
        "colab_type": "text"
      },
      "source": [
        "###Array Concatenation and Splitting"
      ]
    },
    {
      "cell_type": "markdown",
      "metadata": {
        "id": "UFPU_XcOGbYS",
        "colab_type": "text"
      },
      "source": [
        "####Concatenation of arrays"
      ]
    },
    {
      "cell_type": "code",
      "metadata": {
        "id": "PeuMz47KGZAB",
        "colab_type": "code",
        "colab": {
          "base_uri": "https://localhost:8080/",
          "height": 34
        },
        "outputId": "239a718d-5657-4d6c-a840-40e393c0669b"
      },
      "source": [
        "x = np.array([1, 2, 3])\n",
        "y = np.array([3, 2, 1])\n",
        "np.concatenate([x, y])"
      ],
      "execution_count": 99,
      "outputs": [
        {
          "output_type": "execute_result",
          "data": {
            "text/plain": [
              "array([1, 2, 3, 3, 2, 1])"
            ]
          },
          "metadata": {
            "tags": []
          },
          "execution_count": 99
        }
      ]
    },
    {
      "cell_type": "code",
      "metadata": {
        "id": "iP4S_reyGj1j",
        "colab_type": "code",
        "colab": {
          "base_uri": "https://localhost:8080/",
          "height": 85
        },
        "outputId": "f8d5fbec-05b3-4e8f-9823-5b510a880a2d"
      },
      "source": [
        "# concatenate along the first axis\n",
        "grid = np.array([[1, 2, 3],\n",
        "                 [4, 5, 6]])\n",
        "np.concatenate([grid, grid])"
      ],
      "execution_count": 101,
      "outputs": [
        {
          "output_type": "execute_result",
          "data": {
            "text/plain": [
              "array([[1, 2, 3],\n",
              "       [4, 5, 6],\n",
              "       [1, 2, 3],\n",
              "       [4, 5, 6]])"
            ]
          },
          "metadata": {
            "tags": []
          },
          "execution_count": 101
        }
      ]
    },
    {
      "cell_type": "code",
      "metadata": {
        "id": "YX1do4caGym6",
        "colab_type": "code",
        "colab": {
          "base_uri": "https://localhost:8080/",
          "height": 51
        },
        "outputId": "c4431754-bce8-4c40-9f44-a91d8185c4da"
      },
      "source": [
        "# concatenate along the second axis (zero-indexed)\n",
        "np.concatenate([grid, grid], axis=1)"
      ],
      "execution_count": 102,
      "outputs": [
        {
          "output_type": "execute_result",
          "data": {
            "text/plain": [
              "array([[1, 2, 3, 1, 2, 3],\n",
              "       [4, 5, 6, 4, 5, 6]])"
            ]
          },
          "metadata": {
            "tags": []
          },
          "execution_count": 102
        }
      ]
    },
    {
      "cell_type": "markdown",
      "metadata": {
        "id": "LjL9sU2wG3yy",
        "colab_type": "text"
      },
      "source": [
        "For working with arrays of mixed dimensions, it can be clearer to use the **np.vstack(vertical stack)** and **np.hstack (horizontal stack)** functions."
      ]
    },
    {
      "cell_type": "code",
      "metadata": {
        "id": "zsXtM4EoG-_0",
        "colab_type": "code",
        "colab": {
          "base_uri": "https://localhost:8080/",
          "height": 68
        },
        "outputId": "a6cad181-998d-458d-9ae5-14c03090ca6d"
      },
      "source": [
        "x = np.array([1, 2, 3])\n",
        "grid = np.array([[9, 8, 7],\n",
        "                 [6, 5, 4]])\n",
        "# vertically stack the arrays\n",
        "np.vstack([x, grid])"
      ],
      "execution_count": 103,
      "outputs": [
        {
          "output_type": "execute_result",
          "data": {
            "text/plain": [
              "array([[1, 2, 3],\n",
              "       [9, 8, 7],\n",
              "       [6, 5, 4]])"
            ]
          },
          "metadata": {
            "tags": []
          },
          "execution_count": 103
        }
      ]
    },
    {
      "cell_type": "code",
      "metadata": {
        "id": "RsGOvcVnHDVJ",
        "colab_type": "code",
        "colab": {
          "base_uri": "https://localhost:8080/",
          "height": 51
        },
        "outputId": "b0badf2e-ef7c-41da-bdce-2aba0af00e88"
      },
      "source": [
        "# horizontally stack the arrays\n",
        "y = np.array([[99],\n",
        "              [99]])\n",
        "np.hstack([grid, y])"
      ],
      "execution_count": 104,
      "outputs": [
        {
          "output_type": "execute_result",
          "data": {
            "text/plain": [
              "array([[ 9,  8,  7, 99],\n",
              "       [ 6,  5,  4, 99]])"
            ]
          },
          "metadata": {
            "tags": []
          },
          "execution_count": 104
        }
      ]
    },
    {
      "cell_type": "markdown",
      "metadata": {
        "id": "WOeb_6PUHOfJ",
        "colab_type": "text"
      },
      "source": [
        "####Splitting of Arrays\n",
        "\n",
        "The opposite of concatenation is splitting, which is implemented by the functions **np.split**, **np.hsplit**, and np.vsplit."
      ]
    },
    {
      "cell_type": "code",
      "metadata": {
        "id": "_vdcIqcuHQi-",
        "colab_type": "code",
        "colab": {
          "base_uri": "https://localhost:8080/",
          "height": 34
        },
        "outputId": "c68452d2-7faa-4fe9-ebde-7ac04dbc71a8"
      },
      "source": [
        "x = [1, 2, 3, 99, 99, 3, 2, 1]\n",
        "x1, x2, x3 = np.split(x, [3, 5])\n",
        "print(x1, x2, x3)"
      ],
      "execution_count": 105,
      "outputs": [
        {
          "output_type": "stream",
          "text": [
            "[1 2 3] [99 99] [3 2 1]\n"
          ],
          "name": "stdout"
        }
      ]
    },
    {
      "cell_type": "code",
      "metadata": {
        "id": "kJXBcG0lHh3F",
        "colab_type": "code",
        "colab": {
          "base_uri": "https://localhost:8080/",
          "height": 85
        },
        "outputId": "5e105abb-ec11-41f4-9f3f-28719a0cb35c"
      },
      "source": [
        "grid = np.arange(16).reshape((4, 4))\n",
        "grid"
      ],
      "execution_count": 106,
      "outputs": [
        {
          "output_type": "execute_result",
          "data": {
            "text/plain": [
              "array([[ 0,  1,  2,  3],\n",
              "       [ 4,  5,  6,  7],\n",
              "       [ 8,  9, 10, 11],\n",
              "       [12, 13, 14, 15]])"
            ]
          },
          "metadata": {
            "tags": []
          },
          "execution_count": 106
        }
      ]
    },
    {
      "cell_type": "code",
      "metadata": {
        "id": "uvJW1SD-HkbF",
        "colab_type": "code",
        "colab": {
          "base_uri": "https://localhost:8080/",
          "height": 85
        },
        "outputId": "4a328372-c03e-4926-97e7-7ca387887701"
      },
      "source": [
        "upper, lower = np.vsplit(grid, [2])\n",
        "print(upper)\n",
        "print(lower)"
      ],
      "execution_count": 107,
      "outputs": [
        {
          "output_type": "stream",
          "text": [
            "[[0 1 2 3]\n",
            " [4 5 6 7]]\n",
            "[[ 8  9 10 11]\n",
            " [12 13 14 15]]\n"
          ],
          "name": "stdout"
        }
      ]
    },
    {
      "cell_type": "code",
      "metadata": {
        "id": "dtEHhR3QHmuB",
        "colab_type": "code",
        "colab": {
          "base_uri": "https://localhost:8080/",
          "height": 153
        },
        "outputId": "c39a43b3-d1e0-49a2-d36c-035c295024fc"
      },
      "source": [
        "left, right = np.hsplit(grid, [2])\n",
        "print(left)\n",
        "print(right)"
      ],
      "execution_count": 108,
      "outputs": [
        {
          "output_type": "stream",
          "text": [
            "[[ 0  1]\n",
            " [ 4  5]\n",
            " [ 8  9]\n",
            " [12 13]]\n",
            "[[ 2  3]\n",
            " [ 6  7]\n",
            " [10 11]\n",
            " [14 15]]\n"
          ],
          "name": "stdout"
        }
      ]
    },
    {
      "cell_type": "markdown",
      "metadata": {
        "id": "r1x5W_Z2yB2w",
        "colab_type": "text"
      },
      "source": [
        "###References\n",
        "\n",
        "\n",
        "*   https://cs231n.github.io/python-numpy-tutorial/\n",
        "*   https://medium.com/@yasirabd/pengenalan-numpy-pandas-matplotlib-b90bafd36c0\n",
        "* Python Data Science Handbook\n",
        "\n"
      ]
    },
    {
      "cell_type": "code",
      "metadata": {
        "id": "hRxD9lMo0hcc",
        "colab_type": "code",
        "colab": {}
      },
      "source": [
        ""
      ],
      "execution_count": 0,
      "outputs": []
    }
  ]
}