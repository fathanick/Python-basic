{
  "nbformat": 4,
  "nbformat_minor": 0,
  "metadata": {
    "colab": {
      "name": "02-Pandas.ipynb",
      "provenance": [],
      "authorship_tag": "ABX9TyNEbHkgYQJT40oOP/ReI4t9",
      "include_colab_link": true
    },
    "kernelspec": {
      "name": "python3",
      "display_name": "Python 3"
    }
  },
  "cells": [
    {
      "cell_type": "markdown",
      "metadata": {
        "id": "view-in-github",
        "colab_type": "text"
      },
      "source": [
        "<a href=\"https://colab.research.google.com/github/fathanick/Python-basic/blob/master/02_Pandas.ipynb\" target=\"_parent\"><img src=\"https://colab.research.google.com/assets/colab-badge.svg\" alt=\"Open In Colab\"/></a>"
      ]
    },
    {
      "cell_type": "markdown",
      "metadata": {
        "id": "QtkUW0lpJ_lB",
        "colab_type": "text"
      },
      "source": [
        "##Data Manipulation with Pandas\n",
        "\n",
        "* Pandas is a package built on top of NumPy, and provides an\n",
        "efficient implementation of a **DataFrame**.\n",
        "* DataFrames are essentially multidimensional arrays with attached row and column labels, and often with heterogeneous types and/or missing data. \n",
        "* As well as offering a convenient storage interface for labeled data, Pandas implements a number of powerful data operations familiar to users of both database frameworks and spreadsheet programs.\n",
        "* DataFrame can be said to be a combination of a Dictionary object Series that has the same index."
      ]
    },
    {
      "cell_type": "code",
      "metadata": {
        "id": "ElL3LMOiOD_E",
        "colab_type": "code",
        "colab": {}
      },
      "source": [
        "import pandas as pd"
      ],
      "execution_count": 0,
      "outputs": []
    },
    {
      "cell_type": "markdown",
      "metadata": {
        "id": "cz8hk6cvONn9",
        "colab_type": "text"
      },
      "source": [
        "###Create DataFrame\n",
        "\n",
        "A pandas DataFrame can be created using various inputs like:\n",
        "\n",
        "* Lists\n",
        "* dict\n",
        "* Series\n",
        "* Numpy ndarrays\n",
        "* Another DataFrame\n"
      ]
    },
    {
      "cell_type": "markdown",
      "metadata": {
        "id": "U1zE0FS5O2Q1",
        "colab_type": "text"
      },
      "source": [
        "####Create DataFrame from Lists"
      ]
    },
    {
      "cell_type": "code",
      "metadata": {
        "id": "DccO0rkwN9Ac",
        "colab_type": "code",
        "colab": {
          "base_uri": "https://localhost:8080/",
          "height": 119
        },
        "outputId": "1eaacb6f-98ec-4ca2-f728-22b0a98e6f85"
      },
      "source": [
        "data = [1,2,3,4,5]\n",
        "df = pd.DataFrame(data)\n",
        "print(df)"
      ],
      "execution_count": 5,
      "outputs": [
        {
          "output_type": "stream",
          "text": [
            "   0\n",
            "0  1\n",
            "1  2\n",
            "2  3\n",
            "3  4\n",
            "4  5\n"
          ],
          "name": "stdout"
        }
      ]
    },
    {
      "cell_type": "code",
      "metadata": {
        "id": "a17m8Ux7O6SD",
        "colab_type": "code",
        "colab": {
          "base_uri": "https://localhost:8080/",
          "height": 85
        },
        "outputId": "a772acd7-1a1a-4fd1-cec8-5e6637a9827a"
      },
      "source": [
        "data = [['Ahmad',10],['Bilal',12],['Choiry',13]]\n",
        "df = pd.DataFrame(data,columns=['Name','Age'])\n",
        "print(df)"
      ],
      "execution_count": 7,
      "outputs": [
        {
          "output_type": "stream",
          "text": [
            "     Name  Age\n",
            "0   Ahmad   10\n",
            "1   Bilal   12\n",
            "2  Choiry   13\n"
          ],
          "name": "stdout"
        }
      ]
    },
    {
      "cell_type": "markdown",
      "metadata": {
        "id": "2CrpxUadPSyV",
        "colab_type": "text"
      },
      "source": [
        "####Create a DataFrame from Dict of ndarrays / Lists\n",
        "\n",
        "All the **ndarrays** must be of **same length**. If index is passed, then the length of the index should equal to the length of the arrays.\n",
        "\n",
        "If no index is passed, then by default, index will be range(n), where n is the array length."
      ]
    },
    {
      "cell_type": "code",
      "metadata": {
        "id": "oxrQOOr2Pbpu",
        "colab_type": "code",
        "colab": {
          "base_uri": "https://localhost:8080/",
          "height": 102
        },
        "outputId": "94a3b303-9dfe-4d66-b95a-20dad44f79fc"
      },
      "source": [
        "data = {'Name':['Ali', 'Bilal', 'Muadz', 'Hasan'],'Age':[28,34,29,42]}\n",
        "df = pd.DataFrame(data)\n",
        "print(df)\n",
        "\n",
        "# Note − Observe the values 0,1,2,3. They are the default index assigned to each using the function range(n)."
      ],
      "execution_count": 10,
      "outputs": [
        {
          "output_type": "stream",
          "text": [
            "    Name  Age\n",
            "0    Ali   28\n",
            "1  Bilal   34\n",
            "2  Muadz   29\n",
            "3  Hasan   42\n"
          ],
          "name": "stdout"
        }
      ]
    },
    {
      "cell_type": "markdown",
      "metadata": {
        "id": "vNDVycnjQFPL",
        "colab_type": "text"
      },
      "source": [
        "Create an indexed DataFrame using arrays"
      ]
    },
    {
      "cell_type": "code",
      "metadata": {
        "id": "kFVnBEeLQG_v",
        "colab_type": "code",
        "colab": {
          "base_uri": "https://localhost:8080/",
          "height": 102
        },
        "outputId": "20634fa1-9184-4c78-ead4-f9fbee1a957d"
      },
      "source": [
        "data = {'Name':['Ali', 'Bilal', 'Muadz', 'Hasan'],'Age':[28,34,29,42]}\n",
        "df = pd.DataFrame(data, index=['rank1','rank2','rank3','rank4'])\n",
        "print(df)"
      ],
      "execution_count": 11,
      "outputs": [
        {
          "output_type": "stream",
          "text": [
            "        Name  Age\n",
            "rank1    Ali   28\n",
            "rank2  Bilal   34\n",
            "rank3  Muadz   29\n",
            "rank4  Hasan   42\n"
          ],
          "name": "stdout"
        }
      ]
    },
    {
      "cell_type": "markdown",
      "metadata": {
        "id": "Tlqdnr7CQRzI",
        "colab_type": "text"
      },
      "source": [
        "####Create a DataFrame from List of Dicts\n",
        "\n",
        "List of Dictionaries can be passed as input data to create a DataFrame. The dictionary keys are by default taken as column names."
      ]
    },
    {
      "cell_type": "code",
      "metadata": {
        "id": "b5gUCTLaQVUx",
        "colab_type": "code",
        "colab": {
          "base_uri": "https://localhost:8080/",
          "height": 68
        },
        "outputId": "57148679-79cd-422a-e114-7c7068928f44"
      },
      "source": [
        "# create a DataFrame by passing a list of dictionaries\n",
        "\n",
        "data = [{'a': 1, 'b': 2},{'a': 5, 'b': 10, 'c': 20}]\n",
        "df = pd.DataFrame(data)\n",
        "print(df)\n",
        "\n",
        "# Note − Observe, NaN (Not a Number) is appended in missing areas."
      ],
      "execution_count": 12,
      "outputs": [
        {
          "output_type": "stream",
          "text": [
            "   a   b     c\n",
            "0  1   2   NaN\n",
            "1  5  10  20.0\n"
          ],
          "name": "stdout"
        }
      ]
    },
    {
      "cell_type": "markdown",
      "metadata": {
        "id": "MQDHVw7mQ2tg",
        "colab_type": "text"
      },
      "source": [
        "####Create a DataFrame from Dict of Series\n",
        "Dictionary of Series can be passed to form a DataFrame. The resultant index is the union of all the series indexes passed.\n",
        "\n"
      ]
    },
    {
      "cell_type": "code",
      "metadata": {
        "id": "1DiXhjpTQyfq",
        "colab_type": "code",
        "colab": {
          "base_uri": "https://localhost:8080/",
          "height": 102
        },
        "outputId": "bd96fe5e-c34f-41f4-b504-c3a980a91fcd"
      },
      "source": [
        "d = {'one' : pd.Series([1, 2, 3], index=['a', 'b', 'c']),\n",
        "   'two' : pd.Series([1, 2, 3, 4], index=['a', 'b', 'c', 'd'])}\n",
        "\n",
        "df = pd.DataFrame(d)\n",
        "print(df)\n",
        "\n",
        "# Note − Observe, for the series one, there is no label ‘d’ passed, but in the result, for the d label, NaN is appended with NaN."
      ],
      "execution_count": 14,
      "outputs": [
        {
          "output_type": "stream",
          "text": [
            "   one  two\n",
            "a  1.0    1\n",
            "b  2.0    2\n",
            "c  3.0    3\n",
            "d  NaN    4\n"
          ],
          "name": "stdout"
        }
      ]
    },
    {
      "cell_type": "markdown",
      "metadata": {
        "id": "x9nLTo9fRJ58",
        "colab_type": "text"
      },
      "source": [
        "####Column Selection"
      ]
    },
    {
      "cell_type": "code",
      "metadata": {
        "id": "y_MG5YKQQ-c-",
        "colab_type": "code",
        "colab": {
          "base_uri": "https://localhost:8080/",
          "height": 102
        },
        "outputId": "3670b1d7-2f79-4208-d2d6-85f3d9bbd028"
      },
      "source": [
        "d = {'one' : pd.Series([1, 2, 3], index=['a', 'b', 'c']),\n",
        "   'two' : pd.Series([1, 2, 3, 4], index=['a', 'b', 'c', 'd'])}\n",
        "\n",
        "df = pd.DataFrame(d)\n",
        "print(df ['one'])"
      ],
      "execution_count": 15,
      "outputs": [
        {
          "output_type": "stream",
          "text": [
            "a    1.0\n",
            "b    2.0\n",
            "c    3.0\n",
            "d    NaN\n",
            "Name: one, dtype: float64\n"
          ],
          "name": "stdout"
        }
      ]
    },
    {
      "cell_type": "markdown",
      "metadata": {
        "id": "yIlui4f2RXHs",
        "colab_type": "text"
      },
      "source": [
        "####Column Addition"
      ]
    },
    {
      "cell_type": "code",
      "metadata": {
        "id": "GF6HkSaERT5p",
        "colab_type": "code",
        "colab": {
          "base_uri": "https://localhost:8080/",
          "height": 221
        },
        "outputId": "08f70dec-fd7a-4293-8efa-f1c3ee76d883"
      },
      "source": [
        "d = {'one' : pd.Series([1, 2, 3], index=['a', 'b', 'c']),\n",
        "   'two' : pd.Series([1, 2, 3, 4], index=['a', 'b', 'c', 'd'])}\n",
        "\n",
        "df = pd.DataFrame(d)\n",
        "\n",
        "# Adding a new column to an existing DataFrame object with column label by passing new series\n",
        "\n",
        "print(\"Adding a new column by passing as Series:\")\n",
        "df['three']=pd.Series([10,20,30],index=['a','b','c'])\n",
        "print(df)\n",
        "\n",
        "print(\"Adding a new column using the existing columns in DataFrame:\")\n",
        "df['four']=df['one']+df['three']\n",
        "\n",
        "print(df)"
      ],
      "execution_count": 16,
      "outputs": [
        {
          "output_type": "stream",
          "text": [
            "Adding a new column by passing as Series:\n",
            "   one  two  three\n",
            "a  1.0    1   10.0\n",
            "b  2.0    2   20.0\n",
            "c  3.0    3   30.0\n",
            "d  NaN    4    NaN\n",
            "Adding a new column using the existing columns in DataFrame:\n",
            "   one  two  three  four\n",
            "a  1.0    1   10.0  11.0\n",
            "b  2.0    2   20.0  22.0\n",
            "c  3.0    3   30.0  33.0\n",
            "d  NaN    4    NaN   NaN\n"
          ],
          "name": "stdout"
        }
      ]
    },
    {
      "cell_type": "markdown",
      "metadata": {
        "id": "ZTJxDBAhRlAc",
        "colab_type": "text"
      },
      "source": [
        "####Column Deletion"
      ]
    },
    {
      "cell_type": "code",
      "metadata": {
        "id": "4qmhdQPTRnfa",
        "colab_type": "code",
        "colab": {
          "base_uri": "https://localhost:8080/",
          "height": 323
        },
        "outputId": "f4ebe0ac-3d64-471c-cb02-204f4a7b0198"
      },
      "source": [
        "# Using the previous DataFrame, we will delete a column\n",
        "# using del function\n",
        "import pandas as pd\n",
        "\n",
        "d = {'one' : pd.Series([1, 2, 3], index=['a', 'b', 'c']), \n",
        "   'two' : pd.Series([1, 2, 3, 4], index=['a', 'b', 'c', 'd']), \n",
        "   'three' : pd.Series([10,20,30], index=['a','b','c'])}\n",
        "\n",
        "df = pd.DataFrame(d)\n",
        "print(\"Our dataframe is:\")\n",
        "print(df)\n",
        "\n",
        "# using del function\n",
        "print (\"Deleting the first column using DEL function:\")\n",
        "del(df['one'])\n",
        "print(df)\n",
        "\n",
        "# using pop function\n",
        "print(\"Deleting another column using POP function:\")\n",
        "df.pop('two')\n",
        "print(df)"
      ],
      "execution_count": 17,
      "outputs": [
        {
          "output_type": "stream",
          "text": [
            "Our dataframe is:\n",
            "   one  two  three\n",
            "a  1.0    1   10.0\n",
            "b  2.0    2   20.0\n",
            "c  3.0    3   30.0\n",
            "d  NaN    4    NaN\n",
            "Deleting the first column using DEL function:\n",
            "   two  three\n",
            "a    1   10.0\n",
            "b    2   20.0\n",
            "c    3   30.0\n",
            "d    4    NaN\n",
            "Deleting another column using POP function:\n",
            "   three\n",
            "a   10.0\n",
            "b   20.0\n",
            "c   30.0\n",
            "d    NaN\n"
          ],
          "name": "stdout"
        }
      ]
    },
    {
      "cell_type": "markdown",
      "metadata": {
        "id": "VcoyY_80R8L4",
        "colab_type": "text"
      },
      "source": [
        "####Row Selection, Addition, and Deletion"
      ]
    },
    {
      "cell_type": "markdown",
      "metadata": {
        "id": "XTFz8Ph1SCqp",
        "colab_type": "text"
      },
      "source": [
        "#####Selection by Label\n",
        "Rows can be selected by passing row label to a **loc** function."
      ]
    },
    {
      "cell_type": "code",
      "metadata": {
        "id": "mOo-u7sUR9eE",
        "colab_type": "code",
        "colab": {
          "base_uri": "https://localhost:8080/",
          "height": 68
        },
        "outputId": "89976eac-28d9-4051-c779-776544becef7"
      },
      "source": [
        "d = {'one' : pd.Series([1, 2, 3], index=['a', 'b', 'c']), \n",
        "   'two' : pd.Series([1, 2, 3, 4], index=['a', 'b', 'c', 'd'])}\n",
        "\n",
        "df = pd.DataFrame(d)\n",
        "print(df.loc['b'])"
      ],
      "execution_count": 18,
      "outputs": [
        {
          "output_type": "stream",
          "text": [
            "one    2.0\n",
            "two    2.0\n",
            "Name: b, dtype: float64\n"
          ],
          "name": "stdout"
        }
      ]
    },
    {
      "cell_type": "markdown",
      "metadata": {
        "id": "Wi9ojx09SS7N",
        "colab_type": "text"
      },
      "source": [
        "#####Selection by integer location\n",
        "Rows can be selected by passing integer location to an **iloc** function."
      ]
    },
    {
      "cell_type": "code",
      "metadata": {
        "id": "PTUbOO6PSMTQ",
        "colab_type": "code",
        "colab": {
          "base_uri": "https://localhost:8080/",
          "height": 68
        },
        "outputId": "b8e4a77c-c790-4ae5-f0af-fae6f5caff0f"
      },
      "source": [
        "d = {'one' : pd.Series([1, 2, 3], index=['a', 'b', 'c']),\n",
        "   'two' : pd.Series([1, 2, 3, 4], index=['a', 'b', 'c', 'd'])}\n",
        "\n",
        "df = pd.DataFrame(d)\n",
        "print(df.iloc[2])"
      ],
      "execution_count": 19,
      "outputs": [
        {
          "output_type": "stream",
          "text": [
            "one    3.0\n",
            "two    3.0\n",
            "Name: c, dtype: float64\n"
          ],
          "name": "stdout"
        }
      ]
    },
    {
      "cell_type": "markdown",
      "metadata": {
        "id": "YOX96ZU0SevU",
        "colab_type": "text"
      },
      "source": [
        "#####Slice Rows\n",
        "Multiple rows can be selected using ‘ : ’ operator."
      ]
    },
    {
      "cell_type": "code",
      "metadata": {
        "id": "cyMhQH2BSed3",
        "colab_type": "code",
        "colab": {
          "base_uri": "https://localhost:8080/",
          "height": 68
        },
        "outputId": "5efc46a5-868c-4334-f5c8-8448b190a3c2"
      },
      "source": [
        "d = {'one' : pd.Series([1, 2, 3], index=['a', 'b', 'c']), \n",
        "   'two' : pd.Series([1, 2, 3, 4], index=['a', 'b', 'c', 'd'])}\n",
        "\n",
        "df = pd.DataFrame(d)\n",
        "print(df[2:4])"
      ],
      "execution_count": 20,
      "outputs": [
        {
          "output_type": "stream",
          "text": [
            "   one  two\n",
            "c  3.0    3\n",
            "d  NaN    4\n"
          ],
          "name": "stdout"
        }
      ]
    },
    {
      "cell_type": "markdown",
      "metadata": {
        "id": "poLGeDS0SpBi",
        "colab_type": "text"
      },
      "source": [
        "#####Addition of Rows\n",
        "Add new rows to a DataFrame using the **append** function. This function will append the rows at the end."
      ]
    },
    {
      "cell_type": "code",
      "metadata": {
        "id": "U26cJpXCSlDe",
        "colab_type": "code",
        "colab": {
          "base_uri": "https://localhost:8080/",
          "height": 102
        },
        "outputId": "6b84e3c6-22c1-4fb1-d90d-011c6cf67462"
      },
      "source": [
        "df = pd.DataFrame([[1, 2], [3, 4]], columns = ['a','b'])\n",
        "df2 = pd.DataFrame([[5, 6], [7, 8]], columns = ['a','b'])\n",
        "\n",
        "df = df.append(df2)\n",
        "print(df)"
      ],
      "execution_count": 21,
      "outputs": [
        {
          "output_type": "stream",
          "text": [
            "   a  b\n",
            "0  1  2\n",
            "1  3  4\n",
            "0  5  6\n",
            "1  7  8\n"
          ],
          "name": "stdout"
        }
      ]
    },
    {
      "cell_type": "markdown",
      "metadata": {
        "id": "18fihLS7S0wy",
        "colab_type": "text"
      },
      "source": [
        "#####Deletion of Rows\n",
        "Use index label to delete or drop rows from a DataFrame. If label is duplicated, then multiple rows will be dropped."
      ]
    },
    {
      "cell_type": "code",
      "metadata": {
        "id": "f4Ma-7gYS3Mn",
        "colab_type": "code",
        "colab": {
          "base_uri": "https://localhost:8080/",
          "height": 68
        },
        "outputId": "e3d2d349-101a-4c31-b575-0f838d098275"
      },
      "source": [
        "df = pd.DataFrame([[1, 2], [3, 4]], columns = ['a','b'])\n",
        "df2 = pd.DataFrame([[5, 6], [7, 8]], columns = ['a','b'])\n",
        "\n",
        "df = df.append(df2)\n",
        "\n",
        "# Drop rows with label 0\n",
        "df = df.drop(0)\n",
        "\n",
        "print(df)"
      ],
      "execution_count": 22,
      "outputs": [
        {
          "output_type": "stream",
          "text": [
            "   a  b\n",
            "1  3  4\n",
            "1  7  8\n"
          ],
          "name": "stdout"
        }
      ]
    },
    {
      "cell_type": "markdown",
      "metadata": {
        "id": "VBPg4xCvOnJ0",
        "colab_type": "text"
      },
      "source": [
        "###References\n",
        "\n",
        "* https://www.tutorialspoint.com/python_pandas/python_pandas_dataframe.htm"
      ]
    }
  ]
}